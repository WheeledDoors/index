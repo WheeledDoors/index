{
 "cells": [
  {
   "cell_type": "markdown",
   "id": "dbd87e3b",
   "metadata": {},
   "source": [
    "code credit goes to:\n",
    "https://www.analyticsvidhya.com/blog/2016/08/beginners-guide-to-topic-modeling-in-python/"
   ]
  },
  {
   "cell_type": "code",
   "execution_count": 1,
   "id": "45a5e2aa",
   "metadata": {},
   "outputs": [],
   "source": [
    "import pandas as pd\n",
    "import numpy as np\n",
    "import matplotlib.pyplot as plt"
   ]
  },
  {
   "cell_type": "code",
   "execution_count": 2,
   "id": "73b6ca6c",
   "metadata": {},
   "outputs": [
    {
     "name": "stderr",
     "output_type": "stream",
     "text": [
      "[nltk_data] Downloading package stopwords to\n",
      "[nltk_data]     C:\\Users\\lemcm\\AppData\\Roaming\\nltk_data...\n",
      "[nltk_data]   Package stopwords is already up-to-date!\n",
      "[nltk_data] Downloading package punkt to\n",
      "[nltk_data]     C:\\Users\\lemcm\\AppData\\Roaming\\nltk_data...\n",
      "[nltk_data]   Package punkt is already up-to-date!\n",
      "[nltk_data] Downloading package wordnet to\n",
      "[nltk_data]     C:\\Users\\lemcm\\AppData\\Roaming\\nltk_data...\n",
      "[nltk_data]   Package wordnet is already up-to-date!\n"
     ]
    }
   ],
   "source": [
    "import nltk\n",
    "nltk.download('stopwords')\n",
    "nltk.download('punkt')\n",
    "nltk.download('wordnet')\n",
    "\n",
    " \n",
    "from nltk.corpus import stopwords\n",
    "from nltk.stem import WordNetLemmatizer\n",
    "from nltk.tokenize import word_tokenize"
   ]
  },
  {
   "cell_type": "code",
   "execution_count": 3,
   "id": "0c52e27a",
   "metadata": {},
   "outputs": [],
   "source": [
    "# Importing Gensim\n",
    "import gensim\n",
    "from gensim import corpora"
   ]
  },
  {
   "cell_type": "code",
   "execution_count": 4,
   "id": "9a798857",
   "metadata": {},
   "outputs": [],
   "source": [
    "df = pd.read_csv(\"Cleaned_df.csv\", index_col = \"Unnamed: 0\")"
   ]
  },
  {
   "cell_type": "code",
   "execution_count": 5,
   "id": "3b1dda8c",
   "metadata": {
    "scrolled": true
   },
   "outputs": [],
   "source": [
    "df = df.loc[:,[\"Summary\", \"Text\"]]"
   ]
  },
  {
   "cell_type": "code",
   "execution_count": 6,
   "id": "e1259c01",
   "metadata": {},
   "outputs": [],
   "source": [
    "lemmatizer = WordNetLemmatizer()"
   ]
  },
  {
   "cell_type": "code",
   "execution_count": 7,
   "id": "607f8da5",
   "metadata": {},
   "outputs": [],
   "source": [
    "stop_words = set(stopwords.words(\"english\"))"
   ]
  },
  {
   "cell_type": "code",
   "execution_count": 8,
   "id": "c013d280",
   "metadata": {},
   "outputs": [],
   "source": [
    "def word_tokens(row):\n",
    "    return word_tokenize(row)"
   ]
  },
  {
   "cell_type": "code",
   "execution_count": 9,
   "id": "588177f5",
   "metadata": {},
   "outputs": [],
   "source": [
    "def clean_data(df):\n",
    "    df = df.apply(word_tokenize)\n",
    "    df = df.map(lambda x: [i.lower() for i in x if i.lower() not in stop_words])\n",
    "    df = df.map(lambda x: [lemmatizer.lemmatize(i) for i in x if i.lower() if i.isalnum()])\n",
    "    df = df.map(lambda x: ' '.join(x))\n",
    "\n",
    "    return df"
   ]
  },
  {
   "cell_type": "code",
   "execution_count": 10,
   "id": "7f78ce94",
   "metadata": {},
   "outputs": [],
   "source": [
    "def LDA(df, n_topics):\n",
    "    df = clean_data(df)\n",
    "    \n",
    "    #preprocessing\n",
    "    doc_clean = [i.split() for i in df]\n",
    "    dictionary = corpora.Dictionary(doc_clean)\n",
    "    doc_term_matrix = [dictionary.doc2bow(doc) for doc in doc_clean]\n",
    "    \n",
    "    #Build model:\n",
    "    Lda = gensim.models.ldamodel.LdaModel\n",
    "    ldamodel = Lda(doc_term_matrix, num_topics=n_topics, id2word = dictionary, passes=50)\n",
    "    \n",
    "    my_dict = {'Topic_' + str(i): [token for token, score in ldamodel.show_topic(i, topn=10)] for i in range(0, ldamodel.num_topics)}\n",
    "    \n",
    "    #print results\n",
    "    return my_dict"
   ]
  },
  {
   "cell_type": "code",
   "execution_count": 14,
   "id": "a768b28a",
   "metadata": {},
   "outputs": [],
   "source": [
    "tester_df = df.sample(200).reset_index(drop=True)"
   ]
  },
  {
   "cell_type": "code",
   "execution_count": 15,
   "id": "c073aa37",
   "metadata": {},
   "outputs": [
    {
     "data": {
      "text/plain": [
       "{'Topic_0': ['br',\n",
       "  'taste',\n",
       "  'get',\n",
       "  'butter',\n",
       "  'chocolate',\n",
       "  'one',\n",
       "  'good',\n",
       "  'peanut',\n",
       "  'brand',\n",
       "  'even'],\n",
       " 'Topic_1': ['good',\n",
       "  'product',\n",
       "  'bar',\n",
       "  'box',\n",
       "  'get',\n",
       "  'would',\n",
       "  'br',\n",
       "  'find',\n",
       "  'like',\n",
       "  'flavor'],\n",
       " 'Topic_2': ['tea',\n",
       "  'br',\n",
       "  'like',\n",
       "  'one',\n",
       "  'taste',\n",
       "  'good',\n",
       "  'treat',\n",
       "  'food',\n",
       "  'would',\n",
       "  'flavor'],\n",
       " 'Topic_3': ['taste',\n",
       "  'coffee',\n",
       "  'great',\n",
       "  'food',\n",
       "  'good',\n",
       "  'like',\n",
       "  'one',\n",
       "  'product',\n",
       "  'br',\n",
       "  'love'],\n",
       " 'Topic_4': ['br',\n",
       "  'tea',\n",
       "  'make',\n",
       "  'like',\n",
       "  'one',\n",
       "  'taste',\n",
       "  'flavor',\n",
       "  'great',\n",
       "  'made',\n",
       "  'use']}"
      ]
     },
     "execution_count": 15,
     "metadata": {},
     "output_type": "execute_result"
    }
   ],
   "source": [
    "LDA(tester_df[\"Text\"],5)"
   ]
  },
  {
   "cell_type": "code",
   "execution_count": null,
   "id": "e945bcd9",
   "metadata": {},
   "outputs": [],
   "source": []
  }
 ],
 "metadata": {
  "kernelspec": {
   "display_name": "Python 3 (ipykernel)",
   "language": "python",
   "name": "python3"
  },
  "language_info": {
   "codemirror_mode": {
    "name": "ipython",
    "version": 3
   },
   "file_extension": ".py",
   "mimetype": "text/x-python",
   "name": "python",
   "nbconvert_exporter": "python",
   "pygments_lexer": "ipython3",
   "version": "3.9.7"
  }
 },
 "nbformat": 4,
 "nbformat_minor": 5
}
