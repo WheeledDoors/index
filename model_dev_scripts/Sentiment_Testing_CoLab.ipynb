{
  "nbformat": 4,
  "nbformat_minor": 0,
  "metadata": {
    "colab": {
      "name": "Sentiment_Testing.ipynb",
      "provenance": [],
      "collapsed_sections": [
        "tx93diZrjx5j",
        "8lRL9JNjAuZw"
      ]
    },
    "kernelspec": {
      "name": "python3",
      "display_name": "Python 3"
    },
    "language_info": {
      "name": "python"
    },
    "widgets": {
      "application/vnd.jupyter.widget-state+json": {
        "c0337452a4cd40a0a0d0f72ff3e5f288": {
          "model_module": "@jupyter-widgets/controls",
          "model_name": "HBoxModel",
          "model_module_version": "1.5.0",
          "state": {
            "_dom_classes": [],
            "_model_module": "@jupyter-widgets/controls",
            "_model_module_version": "1.5.0",
            "_model_name": "HBoxModel",
            "_view_count": null,
            "_view_module": "@jupyter-widgets/controls",
            "_view_module_version": "1.5.0",
            "_view_name": "HBoxView",
            "box_style": "",
            "children": [
              "IPY_MODEL_d1277059e5374c30a736b8c63ebd149c",
              "IPY_MODEL_e5ef6f8ab64b4abeb46233a9a0af6096",
              "IPY_MODEL_5fe04c9edab541ceacdb22fcf06c5577"
            ],
            "layout": "IPY_MODEL_8be88384c1104f03809f0844f824fe70"
          }
        },
        "d1277059e5374c30a736b8c63ebd149c": {
          "model_module": "@jupyter-widgets/controls",
          "model_name": "HTMLModel",
          "model_module_version": "1.5.0",
          "state": {
            "_dom_classes": [],
            "_model_module": "@jupyter-widgets/controls",
            "_model_module_version": "1.5.0",
            "_model_name": "HTMLModel",
            "_view_count": null,
            "_view_module": "@jupyter-widgets/controls",
            "_view_module_version": "1.5.0",
            "_view_name": "HTMLView",
            "description": "",
            "description_tooltip": null,
            "layout": "IPY_MODEL_bfd5bbb4a0f2418ea03dfbb36d662995",
            "placeholder": "​",
            "style": "IPY_MODEL_4a7f680871924fd38a85102a6daa5a9d",
            "value": "Downloading: 100%"
          }
        },
        "e5ef6f8ab64b4abeb46233a9a0af6096": {
          "model_module": "@jupyter-widgets/controls",
          "model_name": "FloatProgressModel",
          "model_module_version": "1.5.0",
          "state": {
            "_dom_classes": [],
            "_model_module": "@jupyter-widgets/controls",
            "_model_module_version": "1.5.0",
            "_model_name": "FloatProgressModel",
            "_view_count": null,
            "_view_module": "@jupyter-widgets/controls",
            "_view_module_version": "1.5.0",
            "_view_name": "ProgressView",
            "bar_style": "success",
            "description": "",
            "description_tooltip": null,
            "layout": "IPY_MODEL_6393ba6efe9d4440bd6fc07bad4c366f",
            "max": 286,
            "min": 0,
            "orientation": "horizontal",
            "style": "IPY_MODEL_9b29f9ada5d74ab0870b55dfe0cc06a6",
            "value": 286
          }
        },
        "5fe04c9edab541ceacdb22fcf06c5577": {
          "model_module": "@jupyter-widgets/controls",
          "model_name": "HTMLModel",
          "model_module_version": "1.5.0",
          "state": {
            "_dom_classes": [],
            "_model_module": "@jupyter-widgets/controls",
            "_model_module_version": "1.5.0",
            "_model_name": "HTMLModel",
            "_view_count": null,
            "_view_module": "@jupyter-widgets/controls",
            "_view_module_version": "1.5.0",
            "_view_name": "HTMLView",
            "description": "",
            "description_tooltip": null,
            "layout": "IPY_MODEL_e678c590a8cc45cabb83c30d37f55e7e",
            "placeholder": "​",
            "style": "IPY_MODEL_f7fe2b0f77a94425a5a52418f89d15ed",
            "value": " 286/286 [00:00&lt;00:00, 4.20kB/s]"
          }
        },
        "8be88384c1104f03809f0844f824fe70": {
          "model_module": "@jupyter-widgets/base",
          "model_name": "LayoutModel",
          "model_module_version": "1.2.0",
          "state": {
            "_model_module": "@jupyter-widgets/base",
            "_model_module_version": "1.2.0",
            "_model_name": "LayoutModel",
            "_view_count": null,
            "_view_module": "@jupyter-widgets/base",
            "_view_module_version": "1.2.0",
            "_view_name": "LayoutView",
            "align_content": null,
            "align_items": null,
            "align_self": null,
            "border": null,
            "bottom": null,
            "display": null,
            "flex": null,
            "flex_flow": null,
            "grid_area": null,
            "grid_auto_columns": null,
            "grid_auto_flow": null,
            "grid_auto_rows": null,
            "grid_column": null,
            "grid_gap": null,
            "grid_row": null,
            "grid_template_areas": null,
            "grid_template_columns": null,
            "grid_template_rows": null,
            "height": null,
            "justify_content": null,
            "justify_items": null,
            "left": null,
            "margin": null,
            "max_height": null,
            "max_width": null,
            "min_height": null,
            "min_width": null,
            "object_fit": null,
            "object_position": null,
            "order": null,
            "overflow": null,
            "overflow_x": null,
            "overflow_y": null,
            "padding": null,
            "right": null,
            "top": null,
            "visibility": null,
            "width": null
          }
        },
        "bfd5bbb4a0f2418ea03dfbb36d662995": {
          "model_module": "@jupyter-widgets/base",
          "model_name": "LayoutModel",
          "model_module_version": "1.2.0",
          "state": {
            "_model_module": "@jupyter-widgets/base",
            "_model_module_version": "1.2.0",
            "_model_name": "LayoutModel",
            "_view_count": null,
            "_view_module": "@jupyter-widgets/base",
            "_view_module_version": "1.2.0",
            "_view_name": "LayoutView",
            "align_content": null,
            "align_items": null,
            "align_self": null,
            "border": null,
            "bottom": null,
            "display": null,
            "flex": null,
            "flex_flow": null,
            "grid_area": null,
            "grid_auto_columns": null,
            "grid_auto_flow": null,
            "grid_auto_rows": null,
            "grid_column": null,
            "grid_gap": null,
            "grid_row": null,
            "grid_template_areas": null,
            "grid_template_columns": null,
            "grid_template_rows": null,
            "height": null,
            "justify_content": null,
            "justify_items": null,
            "left": null,
            "margin": null,
            "max_height": null,
            "max_width": null,
            "min_height": null,
            "min_width": null,
            "object_fit": null,
            "object_position": null,
            "order": null,
            "overflow": null,
            "overflow_x": null,
            "overflow_y": null,
            "padding": null,
            "right": null,
            "top": null,
            "visibility": null,
            "width": null
          }
        },
        "4a7f680871924fd38a85102a6daa5a9d": {
          "model_module": "@jupyter-widgets/controls",
          "model_name": "DescriptionStyleModel",
          "model_module_version": "1.5.0",
          "state": {
            "_model_module": "@jupyter-widgets/controls",
            "_model_module_version": "1.5.0",
            "_model_name": "DescriptionStyleModel",
            "_view_count": null,
            "_view_module": "@jupyter-widgets/base",
            "_view_module_version": "1.2.0",
            "_view_name": "StyleView",
            "description_width": ""
          }
        },
        "6393ba6efe9d4440bd6fc07bad4c366f": {
          "model_module": "@jupyter-widgets/base",
          "model_name": "LayoutModel",
          "model_module_version": "1.2.0",
          "state": {
            "_model_module": "@jupyter-widgets/base",
            "_model_module_version": "1.2.0",
            "_model_name": "LayoutModel",
            "_view_count": null,
            "_view_module": "@jupyter-widgets/base",
            "_view_module_version": "1.2.0",
            "_view_name": "LayoutView",
            "align_content": null,
            "align_items": null,
            "align_self": null,
            "border": null,
            "bottom": null,
            "display": null,
            "flex": null,
            "flex_flow": null,
            "grid_area": null,
            "grid_auto_columns": null,
            "grid_auto_flow": null,
            "grid_auto_rows": null,
            "grid_column": null,
            "grid_gap": null,
            "grid_row": null,
            "grid_template_areas": null,
            "grid_template_columns": null,
            "grid_template_rows": null,
            "height": null,
            "justify_content": null,
            "justify_items": null,
            "left": null,
            "margin": null,
            "max_height": null,
            "max_width": null,
            "min_height": null,
            "min_width": null,
            "object_fit": null,
            "object_position": null,
            "order": null,
            "overflow": null,
            "overflow_x": null,
            "overflow_y": null,
            "padding": null,
            "right": null,
            "top": null,
            "visibility": null,
            "width": null
          }
        },
        "9b29f9ada5d74ab0870b55dfe0cc06a6": {
          "model_module": "@jupyter-widgets/controls",
          "model_name": "ProgressStyleModel",
          "model_module_version": "1.5.0",
          "state": {
            "_model_module": "@jupyter-widgets/controls",
            "_model_module_version": "1.5.0",
            "_model_name": "ProgressStyleModel",
            "_view_count": null,
            "_view_module": "@jupyter-widgets/base",
            "_view_module_version": "1.2.0",
            "_view_name": "StyleView",
            "bar_color": null,
            "description_width": ""
          }
        },
        "e678c590a8cc45cabb83c30d37f55e7e": {
          "model_module": "@jupyter-widgets/base",
          "model_name": "LayoutModel",
          "model_module_version": "1.2.0",
          "state": {
            "_model_module": "@jupyter-widgets/base",
            "_model_module_version": "1.2.0",
            "_model_name": "LayoutModel",
            "_view_count": null,
            "_view_module": "@jupyter-widgets/base",
            "_view_module_version": "1.2.0",
            "_view_name": "LayoutView",
            "align_content": null,
            "align_items": null,
            "align_self": null,
            "border": null,
            "bottom": null,
            "display": null,
            "flex": null,
            "flex_flow": null,
            "grid_area": null,
            "grid_auto_columns": null,
            "grid_auto_flow": null,
            "grid_auto_rows": null,
            "grid_column": null,
            "grid_gap": null,
            "grid_row": null,
            "grid_template_areas": null,
            "grid_template_columns": null,
            "grid_template_rows": null,
            "height": null,
            "justify_content": null,
            "justify_items": null,
            "left": null,
            "margin": null,
            "max_height": null,
            "max_width": null,
            "min_height": null,
            "min_width": null,
            "object_fit": null,
            "object_position": null,
            "order": null,
            "overflow": null,
            "overflow_x": null,
            "overflow_y": null,
            "padding": null,
            "right": null,
            "top": null,
            "visibility": null,
            "width": null
          }
        },
        "f7fe2b0f77a94425a5a52418f89d15ed": {
          "model_module": "@jupyter-widgets/controls",
          "model_name": "DescriptionStyleModel",
          "model_module_version": "1.5.0",
          "state": {
            "_model_module": "@jupyter-widgets/controls",
            "_model_module_version": "1.5.0",
            "_model_name": "DescriptionStyleModel",
            "_view_count": null,
            "_view_module": "@jupyter-widgets/base",
            "_view_module_version": "1.2.0",
            "_view_name": "StyleView",
            "description_width": ""
          }
        },
        "297148c3d52844afb9c8e2aed935b5a1": {
          "model_module": "@jupyter-widgets/controls",
          "model_name": "HBoxModel",
          "model_module_version": "1.5.0",
          "state": {
            "_dom_classes": [],
            "_model_module": "@jupyter-widgets/controls",
            "_model_module_version": "1.5.0",
            "_model_name": "HBoxModel",
            "_view_count": null,
            "_view_module": "@jupyter-widgets/controls",
            "_view_module_version": "1.5.0",
            "_view_name": "HBoxView",
            "box_style": "",
            "children": [
              "IPY_MODEL_c10d7accdd504c6d8fa06dfb43f8fc90",
              "IPY_MODEL_25d707c41aa24071a04a337e1992cad1",
              "IPY_MODEL_f7874d8bf0de4fa39ae8b7677a60497b"
            ],
            "layout": "IPY_MODEL_c82bb037760043f6b60c1fb5b5e8c870"
          }
        },
        "c10d7accdd504c6d8fa06dfb43f8fc90": {
          "model_module": "@jupyter-widgets/controls",
          "model_name": "HTMLModel",
          "model_module_version": "1.5.0",
          "state": {
            "_dom_classes": [],
            "_model_module": "@jupyter-widgets/controls",
            "_model_module_version": "1.5.0",
            "_model_name": "HTMLModel",
            "_view_count": null,
            "_view_module": "@jupyter-widgets/controls",
            "_view_module_version": "1.5.0",
            "_view_name": "HTMLView",
            "description": "",
            "description_tooltip": null,
            "layout": "IPY_MODEL_2fb67e453fb14c8486ed21a45cfcfa83",
            "placeholder": "​",
            "style": "IPY_MODEL_76296775e1b143e7a1909fd0340505fe",
            "value": "Downloading: 100%"
          }
        },
        "25d707c41aa24071a04a337e1992cad1": {
          "model_module": "@jupyter-widgets/controls",
          "model_name": "FloatProgressModel",
          "model_module_version": "1.5.0",
          "state": {
            "_dom_classes": [],
            "_model_module": "@jupyter-widgets/controls",
            "_model_module_version": "1.5.0",
            "_model_name": "FloatProgressModel",
            "_view_count": null,
            "_view_module": "@jupyter-widgets/controls",
            "_view_module_version": "1.5.0",
            "_view_name": "ProgressView",
            "bar_style": "success",
            "description": "",
            "description_tooltip": null,
            "layout": "IPY_MODEL_61d8de4f2c514caca4f1afc8997c37f6",
            "max": 45106985,
            "min": 0,
            "orientation": "horizontal",
            "style": "IPY_MODEL_e5e6cd38db744c048855f8434081c5f7",
            "value": 45106985
          }
        },
        "f7874d8bf0de4fa39ae8b7677a60497b": {
          "model_module": "@jupyter-widgets/controls",
          "model_name": "HTMLModel",
          "model_module_version": "1.5.0",
          "state": {
            "_dom_classes": [],
            "_model_module": "@jupyter-widgets/controls",
            "_model_module_version": "1.5.0",
            "_model_name": "HTMLModel",
            "_view_count": null,
            "_view_module": "@jupyter-widgets/controls",
            "_view_module_version": "1.5.0",
            "_view_name": "HTMLView",
            "description": "",
            "description_tooltip": null,
            "layout": "IPY_MODEL_5cb7aa59fb8a46049e8eaff22242431f",
            "placeholder": "​",
            "style": "IPY_MODEL_46aa7d2a79d84cf9aff8cefb9101fad7",
            "value": " 43.0M/43.0M [00:01&lt;00:00, 36.7MB/s]"
          }
        },
        "c82bb037760043f6b60c1fb5b5e8c870": {
          "model_module": "@jupyter-widgets/base",
          "model_name": "LayoutModel",
          "model_module_version": "1.2.0",
          "state": {
            "_model_module": "@jupyter-widgets/base",
            "_model_module_version": "1.2.0",
            "_model_name": "LayoutModel",
            "_view_count": null,
            "_view_module": "@jupyter-widgets/base",
            "_view_module_version": "1.2.0",
            "_view_name": "LayoutView",
            "align_content": null,
            "align_items": null,
            "align_self": null,
            "border": null,
            "bottom": null,
            "display": null,
            "flex": null,
            "flex_flow": null,
            "grid_area": null,
            "grid_auto_columns": null,
            "grid_auto_flow": null,
            "grid_auto_rows": null,
            "grid_column": null,
            "grid_gap": null,
            "grid_row": null,
            "grid_template_areas": null,
            "grid_template_columns": null,
            "grid_template_rows": null,
            "height": null,
            "justify_content": null,
            "justify_items": null,
            "left": null,
            "margin": null,
            "max_height": null,
            "max_width": null,
            "min_height": null,
            "min_width": null,
            "object_fit": null,
            "object_position": null,
            "order": null,
            "overflow": null,
            "overflow_x": null,
            "overflow_y": null,
            "padding": null,
            "right": null,
            "top": null,
            "visibility": null,
            "width": null
          }
        },
        "2fb67e453fb14c8486ed21a45cfcfa83": {
          "model_module": "@jupyter-widgets/base",
          "model_name": "LayoutModel",
          "model_module_version": "1.2.0",
          "state": {
            "_model_module": "@jupyter-widgets/base",
            "_model_module_version": "1.2.0",
            "_model_name": "LayoutModel",
            "_view_count": null,
            "_view_module": "@jupyter-widgets/base",
            "_view_module_version": "1.2.0",
            "_view_name": "LayoutView",
            "align_content": null,
            "align_items": null,
            "align_self": null,
            "border": null,
            "bottom": null,
            "display": null,
            "flex": null,
            "flex_flow": null,
            "grid_area": null,
            "grid_auto_columns": null,
            "grid_auto_flow": null,
            "grid_auto_rows": null,
            "grid_column": null,
            "grid_gap": null,
            "grid_row": null,
            "grid_template_areas": null,
            "grid_template_columns": null,
            "grid_template_rows": null,
            "height": null,
            "justify_content": null,
            "justify_items": null,
            "left": null,
            "margin": null,
            "max_height": null,
            "max_width": null,
            "min_height": null,
            "min_width": null,
            "object_fit": null,
            "object_position": null,
            "order": null,
            "overflow": null,
            "overflow_x": null,
            "overflow_y": null,
            "padding": null,
            "right": null,
            "top": null,
            "visibility": null,
            "width": null
          }
        },
        "76296775e1b143e7a1909fd0340505fe": {
          "model_module": "@jupyter-widgets/controls",
          "model_name": "DescriptionStyleModel",
          "model_module_version": "1.5.0",
          "state": {
            "_model_module": "@jupyter-widgets/controls",
            "_model_module_version": "1.5.0",
            "_model_name": "DescriptionStyleModel",
            "_view_count": null,
            "_view_module": "@jupyter-widgets/base",
            "_view_module_version": "1.2.0",
            "_view_name": "StyleView",
            "description_width": ""
          }
        },
        "61d8de4f2c514caca4f1afc8997c37f6": {
          "model_module": "@jupyter-widgets/base",
          "model_name": "LayoutModel",
          "model_module_version": "1.2.0",
          "state": {
            "_model_module": "@jupyter-widgets/base",
            "_model_module_version": "1.2.0",
            "_model_name": "LayoutModel",
            "_view_count": null,
            "_view_module": "@jupyter-widgets/base",
            "_view_module_version": "1.2.0",
            "_view_name": "LayoutView",
            "align_content": null,
            "align_items": null,
            "align_self": null,
            "border": null,
            "bottom": null,
            "display": null,
            "flex": null,
            "flex_flow": null,
            "grid_area": null,
            "grid_auto_columns": null,
            "grid_auto_flow": null,
            "grid_auto_rows": null,
            "grid_column": null,
            "grid_gap": null,
            "grid_row": null,
            "grid_template_areas": null,
            "grid_template_columns": null,
            "grid_template_rows": null,
            "height": null,
            "justify_content": null,
            "justify_items": null,
            "left": null,
            "margin": null,
            "max_height": null,
            "max_width": null,
            "min_height": null,
            "min_width": null,
            "object_fit": null,
            "object_position": null,
            "order": null,
            "overflow": null,
            "overflow_x": null,
            "overflow_y": null,
            "padding": null,
            "right": null,
            "top": null,
            "visibility": null,
            "width": null
          }
        },
        "e5e6cd38db744c048855f8434081c5f7": {
          "model_module": "@jupyter-widgets/controls",
          "model_name": "ProgressStyleModel",
          "model_module_version": "1.5.0",
          "state": {
            "_model_module": "@jupyter-widgets/controls",
            "_model_module_version": "1.5.0",
            "_model_name": "ProgressStyleModel",
            "_view_count": null,
            "_view_module": "@jupyter-widgets/base",
            "_view_module_version": "1.2.0",
            "_view_name": "StyleView",
            "bar_color": null,
            "description_width": ""
          }
        },
        "5cb7aa59fb8a46049e8eaff22242431f": {
          "model_module": "@jupyter-widgets/base",
          "model_name": "LayoutModel",
          "model_module_version": "1.2.0",
          "state": {
            "_model_module": "@jupyter-widgets/base",
            "_model_module_version": "1.2.0",
            "_model_name": "LayoutModel",
            "_view_count": null,
            "_view_module": "@jupyter-widgets/base",
            "_view_module_version": "1.2.0",
            "_view_name": "LayoutView",
            "align_content": null,
            "align_items": null,
            "align_self": null,
            "border": null,
            "bottom": null,
            "display": null,
            "flex": null,
            "flex_flow": null,
            "grid_area": null,
            "grid_auto_columns": null,
            "grid_auto_flow": null,
            "grid_auto_rows": null,
            "grid_column": null,
            "grid_gap": null,
            "grid_row": null,
            "grid_template_areas": null,
            "grid_template_columns": null,
            "grid_template_rows": null,
            "height": null,
            "justify_content": null,
            "justify_items": null,
            "left": null,
            "margin": null,
            "max_height": null,
            "max_width": null,
            "min_height": null,
            "min_width": null,
            "object_fit": null,
            "object_position": null,
            "order": null,
            "overflow": null,
            "overflow_x": null,
            "overflow_y": null,
            "padding": null,
            "right": null,
            "top": null,
            "visibility": null,
            "width": null
          }
        },
        "46aa7d2a79d84cf9aff8cefb9101fad7": {
          "model_module": "@jupyter-widgets/controls",
          "model_name": "DescriptionStyleModel",
          "model_module_version": "1.5.0",
          "state": {
            "_model_module": "@jupyter-widgets/controls",
            "_model_module_version": "1.5.0",
            "_model_name": "DescriptionStyleModel",
            "_view_count": null,
            "_view_module": "@jupyter-widgets/base",
            "_view_module_version": "1.2.0",
            "_view_name": "StyleView",
            "description_width": ""
          }
        },
        "eb8f59295dd54411ae008537042e973e": {
          "model_module": "@jupyter-widgets/controls",
          "model_name": "HBoxModel",
          "model_module_version": "1.5.0",
          "state": {
            "_dom_classes": [],
            "_model_module": "@jupyter-widgets/controls",
            "_model_module_version": "1.5.0",
            "_model_name": "HBoxModel",
            "_view_count": null,
            "_view_module": "@jupyter-widgets/controls",
            "_view_module_version": "1.5.0",
            "_view_name": "HBoxView",
            "box_style": "",
            "children": [
              "IPY_MODEL_d60cde9353754a91b8f7504695c3d0e3",
              "IPY_MODEL_e0c11ca4ab0e4b1799a0b4a588622d79",
              "IPY_MODEL_c0a644871bdf42a7be8e62762526d52c"
            ],
            "layout": "IPY_MODEL_9e382502c0ae40a4a18391469cc87557"
          }
        },
        "d60cde9353754a91b8f7504695c3d0e3": {
          "model_module": "@jupyter-widgets/controls",
          "model_name": "HTMLModel",
          "model_module_version": "1.5.0",
          "state": {
            "_dom_classes": [],
            "_model_module": "@jupyter-widgets/controls",
            "_model_module_version": "1.5.0",
            "_model_name": "HTMLModel",
            "_view_count": null,
            "_view_module": "@jupyter-widgets/controls",
            "_view_module_version": "1.5.0",
            "_view_name": "HTMLView",
            "description": "",
            "description_tooltip": null,
            "layout": "IPY_MODEL_1e5a38f7967c401bb50e318f7513e2f0",
            "placeholder": "​",
            "style": "IPY_MODEL_eee750bbf43b477b849e711441447e71",
            "value": "Downloading: 100%"
          }
        },
        "e0c11ca4ab0e4b1799a0b4a588622d79": {
          "model_module": "@jupyter-widgets/controls",
          "model_name": "FloatProgressModel",
          "model_module_version": "1.5.0",
          "state": {
            "_dom_classes": [],
            "_model_module": "@jupyter-widgets/controls",
            "_model_module_version": "1.5.0",
            "_model_name": "FloatProgressModel",
            "_view_count": null,
            "_view_module": "@jupyter-widgets/controls",
            "_view_module_version": "1.5.0",
            "_view_name": "ProgressView",
            "bar_style": "success",
            "description": "",
            "description_tooltip": null,
            "layout": "IPY_MODEL_6ed23f1be5894a1ca9112c713a547d5e",
            "max": 231508,
            "min": 0,
            "orientation": "horizontal",
            "style": "IPY_MODEL_d99d8863075843a59fe314da3b059139",
            "value": 231508
          }
        },
        "c0a644871bdf42a7be8e62762526d52c": {
          "model_module": "@jupyter-widgets/controls",
          "model_name": "HTMLModel",
          "model_module_version": "1.5.0",
          "state": {
            "_dom_classes": [],
            "_model_module": "@jupyter-widgets/controls",
            "_model_module_version": "1.5.0",
            "_model_name": "HTMLModel",
            "_view_count": null,
            "_view_module": "@jupyter-widgets/controls",
            "_view_module_version": "1.5.0",
            "_view_name": "HTMLView",
            "description": "",
            "description_tooltip": null,
            "layout": "IPY_MODEL_80fae0451ee242ce9a562991916de4a0",
            "placeholder": "​",
            "style": "IPY_MODEL_58970a389bf44ad480892d4e21ff6d02",
            "value": " 226k/226k [00:00&lt;00:00, 1.13MB/s]"
          }
        },
        "9e382502c0ae40a4a18391469cc87557": {
          "model_module": "@jupyter-widgets/base",
          "model_name": "LayoutModel",
          "model_module_version": "1.2.0",
          "state": {
            "_model_module": "@jupyter-widgets/base",
            "_model_module_version": "1.2.0",
            "_model_name": "LayoutModel",
            "_view_count": null,
            "_view_module": "@jupyter-widgets/base",
            "_view_module_version": "1.2.0",
            "_view_name": "LayoutView",
            "align_content": null,
            "align_items": null,
            "align_self": null,
            "border": null,
            "bottom": null,
            "display": null,
            "flex": null,
            "flex_flow": null,
            "grid_area": null,
            "grid_auto_columns": null,
            "grid_auto_flow": null,
            "grid_auto_rows": null,
            "grid_column": null,
            "grid_gap": null,
            "grid_row": null,
            "grid_template_areas": null,
            "grid_template_columns": null,
            "grid_template_rows": null,
            "height": null,
            "justify_content": null,
            "justify_items": null,
            "left": null,
            "margin": null,
            "max_height": null,
            "max_width": null,
            "min_height": null,
            "min_width": null,
            "object_fit": null,
            "object_position": null,
            "order": null,
            "overflow": null,
            "overflow_x": null,
            "overflow_y": null,
            "padding": null,
            "right": null,
            "top": null,
            "visibility": null,
            "width": null
          }
        },
        "1e5a38f7967c401bb50e318f7513e2f0": {
          "model_module": "@jupyter-widgets/base",
          "model_name": "LayoutModel",
          "model_module_version": "1.2.0",
          "state": {
            "_model_module": "@jupyter-widgets/base",
            "_model_module_version": "1.2.0",
            "_model_name": "LayoutModel",
            "_view_count": null,
            "_view_module": "@jupyter-widgets/base",
            "_view_module_version": "1.2.0",
            "_view_name": "LayoutView",
            "align_content": null,
            "align_items": null,
            "align_self": null,
            "border": null,
            "bottom": null,
            "display": null,
            "flex": null,
            "flex_flow": null,
            "grid_area": null,
            "grid_auto_columns": null,
            "grid_auto_flow": null,
            "grid_auto_rows": null,
            "grid_column": null,
            "grid_gap": null,
            "grid_row": null,
            "grid_template_areas": null,
            "grid_template_columns": null,
            "grid_template_rows": null,
            "height": null,
            "justify_content": null,
            "justify_items": null,
            "left": null,
            "margin": null,
            "max_height": null,
            "max_width": null,
            "min_height": null,
            "min_width": null,
            "object_fit": null,
            "object_position": null,
            "order": null,
            "overflow": null,
            "overflow_x": null,
            "overflow_y": null,
            "padding": null,
            "right": null,
            "top": null,
            "visibility": null,
            "width": null
          }
        },
        "eee750bbf43b477b849e711441447e71": {
          "model_module": "@jupyter-widgets/controls",
          "model_name": "DescriptionStyleModel",
          "model_module_version": "1.5.0",
          "state": {
            "_model_module": "@jupyter-widgets/controls",
            "_model_module_version": "1.5.0",
            "_model_name": "DescriptionStyleModel",
            "_view_count": null,
            "_view_module": "@jupyter-widgets/base",
            "_view_module_version": "1.2.0",
            "_view_name": "StyleView",
            "description_width": ""
          }
        },
        "6ed23f1be5894a1ca9112c713a547d5e": {
          "model_module": "@jupyter-widgets/base",
          "model_name": "LayoutModel",
          "model_module_version": "1.2.0",
          "state": {
            "_model_module": "@jupyter-widgets/base",
            "_model_module_version": "1.2.0",
            "_model_name": "LayoutModel",
            "_view_count": null,
            "_view_module": "@jupyter-widgets/base",
            "_view_module_version": "1.2.0",
            "_view_name": "LayoutView",
            "align_content": null,
            "align_items": null,
            "align_self": null,
            "border": null,
            "bottom": null,
            "display": null,
            "flex": null,
            "flex_flow": null,
            "grid_area": null,
            "grid_auto_columns": null,
            "grid_auto_flow": null,
            "grid_auto_rows": null,
            "grid_column": null,
            "grid_gap": null,
            "grid_row": null,
            "grid_template_areas": null,
            "grid_template_columns": null,
            "grid_template_rows": null,
            "height": null,
            "justify_content": null,
            "justify_items": null,
            "left": null,
            "margin": null,
            "max_height": null,
            "max_width": null,
            "min_height": null,
            "min_width": null,
            "object_fit": null,
            "object_position": null,
            "order": null,
            "overflow": null,
            "overflow_x": null,
            "overflow_y": null,
            "padding": null,
            "right": null,
            "top": null,
            "visibility": null,
            "width": null
          }
        },
        "d99d8863075843a59fe314da3b059139": {
          "model_module": "@jupyter-widgets/controls",
          "model_name": "ProgressStyleModel",
          "model_module_version": "1.5.0",
          "state": {
            "_model_module": "@jupyter-widgets/controls",
            "_model_module_version": "1.5.0",
            "_model_name": "ProgressStyleModel",
            "_view_count": null,
            "_view_module": "@jupyter-widgets/base",
            "_view_module_version": "1.2.0",
            "_view_name": "StyleView",
            "bar_color": null,
            "description_width": ""
          }
        },
        "80fae0451ee242ce9a562991916de4a0": {
          "model_module": "@jupyter-widgets/base",
          "model_name": "LayoutModel",
          "model_module_version": "1.2.0",
          "state": {
            "_model_module": "@jupyter-widgets/base",
            "_model_module_version": "1.2.0",
            "_model_name": "LayoutModel",
            "_view_count": null,
            "_view_module": "@jupyter-widgets/base",
            "_view_module_version": "1.2.0",
            "_view_name": "LayoutView",
            "align_content": null,
            "align_items": null,
            "align_self": null,
            "border": null,
            "bottom": null,
            "display": null,
            "flex": null,
            "flex_flow": null,
            "grid_area": null,
            "grid_auto_columns": null,
            "grid_auto_flow": null,
            "grid_auto_rows": null,
            "grid_column": null,
            "grid_gap": null,
            "grid_row": null,
            "grid_template_areas": null,
            "grid_template_columns": null,
            "grid_template_rows": null,
            "height": null,
            "justify_content": null,
            "justify_items": null,
            "left": null,
            "margin": null,
            "max_height": null,
            "max_width": null,
            "min_height": null,
            "min_width": null,
            "object_fit": null,
            "object_position": null,
            "order": null,
            "overflow": null,
            "overflow_x": null,
            "overflow_y": null,
            "padding": null,
            "right": null,
            "top": null,
            "visibility": null,
            "width": null
          }
        },
        "58970a389bf44ad480892d4e21ff6d02": {
          "model_module": "@jupyter-widgets/controls",
          "model_name": "DescriptionStyleModel",
          "model_module_version": "1.5.0",
          "state": {
            "_model_module": "@jupyter-widgets/controls",
            "_model_module_version": "1.5.0",
            "_model_name": "DescriptionStyleModel",
            "_view_count": null,
            "_view_module": "@jupyter-widgets/base",
            "_view_module_version": "1.2.0",
            "_view_name": "StyleView",
            "description_width": ""
          }
        }
      }
    }
  },
  "cells": [
    {
      "cell_type": "markdown",
      "source": [
        "## 1. Imports"
      ],
      "metadata": {
        "id": "tx93diZrjx5j"
      }
    },
    {
      "cell_type": "code",
      "execution_count": null,
      "metadata": {
        "colab": {
          "base_uri": "https://localhost:8080/"
        },
        "id": "gdrrfA8Ziuui",
        "outputId": "173de588-dc4c-4777-90ee-36d5865cfdad"
      },
      "outputs": [
        {
          "output_type": "stream",
          "name": "stdout",
          "text": [
            "Mounted at /content/drive\n"
          ]
        }
      ],
      "source": [
        "from google.colab import drive\n",
        "drive.mount('/content/drive', force_remount=True)"
      ]
    },
    {
      "cell_type": "code",
      "source": [
        "import os\n",
        "import numpy as np\n",
        "import pandas as pd\n",
        "import time"
      ],
      "metadata": {
        "id": "mZVrxXkWjJ00"
      },
      "execution_count": null,
      "outputs": []
    },
    {
      "cell_type": "code",
      "source": [
        "os.chdir('./drive/MyDrive/IR Final Project/CoLab')"
      ],
      "metadata": {
        "id": "VfesOHIQixZf"
      },
      "execution_count": null,
      "outputs": []
    },
    {
      "cell_type": "code",
      "source": [
        "!pip install transformers"
      ],
      "metadata": {
        "colab": {
          "base_uri": "https://localhost:8080/"
        },
        "id": "Rx7ta4BojUQj",
        "outputId": "90a163f5-01eb-4a78-8908-d294a99038d4"
      },
      "execution_count": null,
      "outputs": [
        {
          "output_type": "stream",
          "name": "stdout",
          "text": [
            "Collecting transformers\n",
            "  Downloading transformers-4.18.0-py3-none-any.whl (4.0 MB)\n",
            "\u001b[K     |████████████████████████████████| 4.0 MB 5.5 MB/s \n",
            "\u001b[?25hRequirement already satisfied: tqdm>=4.27 in /usr/local/lib/python3.7/dist-packages (from transformers) (4.64.0)\n",
            "Requirement already satisfied: packaging>=20.0 in /usr/local/lib/python3.7/dist-packages (from transformers) (21.3)\n",
            "Requirement already satisfied: filelock in /usr/local/lib/python3.7/dist-packages (from transformers) (3.6.0)\n",
            "Requirement already satisfied: numpy>=1.17 in /usr/local/lib/python3.7/dist-packages (from transformers) (1.21.6)\n",
            "Collecting pyyaml>=5.1\n",
            "  Downloading PyYAML-6.0-cp37-cp37m-manylinux_2_5_x86_64.manylinux1_x86_64.manylinux_2_12_x86_64.manylinux2010_x86_64.whl (596 kB)\n",
            "\u001b[K     |████████████████████████████████| 596 kB 35.8 MB/s \n",
            "\u001b[?25hCollecting tokenizers!=0.11.3,<0.13,>=0.11.1\n",
            "  Downloading tokenizers-0.12.1-cp37-cp37m-manylinux_2_12_x86_64.manylinux2010_x86_64.whl (6.6 MB)\n",
            "\u001b[K     |████████████████████████████████| 6.6 MB 28.2 MB/s \n",
            "\u001b[?25hCollecting sacremoses\n",
            "  Downloading sacremoses-0.0.49-py3-none-any.whl (895 kB)\n",
            "\u001b[K     |████████████████████████████████| 895 kB 31.2 MB/s \n",
            "\u001b[?25hCollecting huggingface-hub<1.0,>=0.1.0\n",
            "  Downloading huggingface_hub-0.5.1-py3-none-any.whl (77 kB)\n",
            "\u001b[K     |████████████████████████████████| 77 kB 5.6 MB/s \n",
            "\u001b[?25hRequirement already satisfied: regex!=2019.12.17 in /usr/local/lib/python3.7/dist-packages (from transformers) (2019.12.20)\n",
            "Requirement already satisfied: requests in /usr/local/lib/python3.7/dist-packages (from transformers) (2.23.0)\n",
            "Requirement already satisfied: importlib-metadata in /usr/local/lib/python3.7/dist-packages (from transformers) (4.11.3)\n",
            "Requirement already satisfied: typing-extensions>=3.7.4.3 in /usr/local/lib/python3.7/dist-packages (from huggingface-hub<1.0,>=0.1.0->transformers) (4.1.1)\n",
            "Requirement already satisfied: pyparsing!=3.0.5,>=2.0.2 in /usr/local/lib/python3.7/dist-packages (from packaging>=20.0->transformers) (3.0.8)\n",
            "Requirement already satisfied: zipp>=0.5 in /usr/local/lib/python3.7/dist-packages (from importlib-metadata->transformers) (3.8.0)\n",
            "Requirement already satisfied: certifi>=2017.4.17 in /usr/local/lib/python3.7/dist-packages (from requests->transformers) (2021.10.8)\n",
            "Requirement already satisfied: idna<3,>=2.5 in /usr/local/lib/python3.7/dist-packages (from requests->transformers) (2.10)\n",
            "Requirement already satisfied: chardet<4,>=3.0.2 in /usr/local/lib/python3.7/dist-packages (from requests->transformers) (3.0.4)\n",
            "Requirement already satisfied: urllib3!=1.25.0,!=1.25.1,<1.26,>=1.21.1 in /usr/local/lib/python3.7/dist-packages (from requests->transformers) (1.24.3)\n",
            "Requirement already satisfied: six in /usr/local/lib/python3.7/dist-packages (from sacremoses->transformers) (1.15.0)\n",
            "Requirement already satisfied: click in /usr/local/lib/python3.7/dist-packages (from sacremoses->transformers) (7.1.2)\n",
            "Requirement already satisfied: joblib in /usr/local/lib/python3.7/dist-packages (from sacremoses->transformers) (1.1.0)\n",
            "Installing collected packages: pyyaml, tokenizers, sacremoses, huggingface-hub, transformers\n",
            "  Attempting uninstall: pyyaml\n",
            "    Found existing installation: PyYAML 3.13\n",
            "    Uninstalling PyYAML-3.13:\n",
            "      Successfully uninstalled PyYAML-3.13\n",
            "Successfully installed huggingface-hub-0.5.1 pyyaml-6.0 sacremoses-0.0.49 tokenizers-0.12.1 transformers-4.18.0\n"
          ]
        }
      ]
    },
    {
      "cell_type": "code",
      "source": [
        "from transformers import AutoTokenizer, AutoModelForSequenceClassification, pipeline\n",
        "from transformers.file_utils import is_tf_available, is_torch_available, is_torch_tpu_available\n",
        "from transformers import BertTokenizerFast, BertForSequenceClassification\n",
        "from transformers import Trainer, TrainingArguments"
      ],
      "metadata": {
        "id": "wHGFzAfTjJEa"
      },
      "execution_count": null,
      "outputs": []
    },
    {
      "cell_type": "code",
      "source": [
        "import nltk\n",
        "import matplotlib.pyplot as plt\n",
        "from nltk.corpus import stopwords\n",
        "from nltk.stem import WordNetLemmatizer\n",
        "from nltk.tokenize import word_tokenize"
      ],
      "metadata": {
        "id": "2Bv_RX4ujTGm"
      },
      "execution_count": null,
      "outputs": []
    },
    {
      "cell_type": "code",
      "source": [
        "from sklearn.feature_extraction.text import TfidfVectorizer\n",
        "from sklearn.naive_bayes import MultinomialNB\n",
        "from sklearn.metrics import accuracy_score\n",
        "from sklearn.metrics import confusion_matrix\n",
        "import seaborn as sns\n",
        "from sklearn.linear_model import LogisticRegression\n",
        "from sklearn.svm import SVC\n",
        "from sklearn.feature_extraction.text import CountVectorizer\n"
      ],
      "metadata": {
        "id": "1PMaQpKS6IXD"
      },
      "execution_count": null,
      "outputs": []
    },
    {
      "cell_type": "markdown",
      "source": [
        "## 2. Data"
      ],
      "metadata": {
        "id": "Cq8qAy83j2eb"
      }
    },
    {
      "cell_type": "code",
      "source": [
        "df = pd.read_csv(\"model_dev_data.csv\", encoding = \"ISO-8859-1\", header=None)"
      ],
      "metadata": {
        "id": "eWjPnodMjt66"
      },
      "execution_count": null,
      "outputs": []
    },
    {
      "cell_type": "code",
      "source": [
        "df = df.loc[:, (0,5)]"
      ],
      "metadata": {
        "id": "TRjYCK1JjuCh"
      },
      "execution_count": null,
      "outputs": []
    },
    {
      "cell_type": "code",
      "source": [
        "df.columns = [\"Rating\",\"Text\"]"
      ],
      "metadata": {
        "id": "32uUmRqSj1zH"
      },
      "execution_count": null,
      "outputs": []
    },
    {
      "cell_type": "code",
      "source": [
        "df[\"Rating\"] = df[\"Rating\"].map({4 : 1, 0:0}) #mapping positive to 1 instead of 4"
      ],
      "metadata": {
        "id": "nY6TjueynLmN"
      },
      "execution_count": null,
      "outputs": []
    },
    {
      "cell_type": "code",
      "source": [
        "from sklearn.model_selection import train_test_split"
      ],
      "metadata": {
        "id": "zPRksWGcTxxI"
      },
      "execution_count": null,
      "outputs": []
    },
    {
      "cell_type": "code",
      "source": [
        "df = df.sample(100000, random_state=0) #scaling down so processing time is achievable "
      ],
      "metadata": {
        "id": "sq6FPPVKURyW"
      },
      "execution_count": null,
      "outputs": []
    },
    {
      "cell_type": "code",
      "source": [
        "X_train, X_test, y_train, y_test = train_test_split(\n",
        "  df[\"Text\"], df[\"Rating\"], test_size=0.33, random_state=42)"
      ],
      "metadata": {
        "id": "_OGXHODcTx5A"
      },
      "execution_count": null,
      "outputs": []
    },
    {
      "cell_type": "code",
      "source": [
        "X_train = X_train.reset_index(drop=True)\n",
        "X_test = X_test.reset_index(drop=True)\n",
        "\n",
        "y_train = y_train.reset_index(drop=True)\n",
        "y_test = y_test.reset_index(drop=True)"
      ],
      "metadata": {
        "id": "6kvvjeSqUmVw"
      },
      "execution_count": null,
      "outputs": []
    },
    {
      "cell_type": "markdown",
      "source": [
        "### 2.1 Results DF"
      ],
      "metadata": {
        "id": "eZOQieBu5ls_"
      }
    },
    {
      "cell_type": "code",
      "source": [
        "results_df = pd.DataFrame() #save out name, results, time"
      ],
      "metadata": {
        "id": "S5nIdcyO5qO9"
      },
      "execution_count": null,
      "outputs": []
    },
    {
      "cell_type": "markdown",
      "source": [
        "## 3. Cleaning Functions"
      ],
      "metadata": {
        "id": "8lRL9JNjAuZw"
      }
    },
    {
      "cell_type": "code",
      "source": [
        "import nltk\n",
        "nltk.download('stopwords')\n",
        "nltk.download('punkt')\n",
        "nltk.download('wordnet')\n",
        "\n",
        " \n",
        "from nltk.corpus import stopwords\n",
        "from nltk.stem import WordNetLemmatizer\n",
        "from nltk.tokenize import word_tokenize"
      ],
      "metadata": {
        "id": "z7ufRaRZ8NZh",
        "colab": {
          "base_uri": "https://localhost:8080/"
        },
        "outputId": "5361f672-b95c-482b-daf3-bad11c7eff0c"
      },
      "execution_count": null,
      "outputs": [
        {
          "output_type": "stream",
          "name": "stdout",
          "text": [
            "[nltk_data] Downloading package stopwords to /root/nltk_data...\n",
            "[nltk_data]   Unzipping corpora/stopwords.zip.\n",
            "[nltk_data] Downloading package punkt to /root/nltk_data...\n",
            "[nltk_data]   Unzipping tokenizers/punkt.zip.\n",
            "[nltk_data] Downloading package wordnet to /root/nltk_data...\n",
            "[nltk_data]   Unzipping corpora/wordnet.zip.\n"
          ]
        }
      ]
    },
    {
      "cell_type": "code",
      "source": [
        "lemmatizer = WordNetLemmatizer()"
      ],
      "metadata": {
        "id": "sA02kEYe_1BR"
      },
      "execution_count": null,
      "outputs": []
    },
    {
      "cell_type": "code",
      "source": [
        "stop_words = set(stopwords.words(\"english\"))"
      ],
      "metadata": {
        "id": "5vTu-RDi_KdP"
      },
      "execution_count": null,
      "outputs": []
    },
    {
      "cell_type": "code",
      "source": [
        "def word_tokens(row):\n",
        "    return word_tokenize(row)"
      ],
      "metadata": {
        "id": "jHgS1xIl7bK2"
      },
      "execution_count": null,
      "outputs": []
    },
    {
      "cell_type": "code",
      "source": [
        "def clean_data(df):\n",
        "    df = df.apply(word_tokenize)\n",
        "    df = df.map(lambda x: [i.lower() for i in x if i.lower() not in stop_words])\n",
        "    df = df.map(lambda x: [lemmatizer.lemmatize(i) for i in x if i.lower() if i.isalnum()])\n",
        "    df = df.map(lambda x: ' '.join(x))\n",
        "\n",
        "    return df"
      ],
      "metadata": {
        "id": "G0tgI19A6pRN"
      },
      "execution_count": null,
      "outputs": []
    },
    {
      "cell_type": "code",
      "source": [
        "X_train = clean_data(X_train)"
      ],
      "metadata": {
        "id": "vdw4JPnqAUt9"
      },
      "execution_count": null,
      "outputs": []
    },
    {
      "cell_type": "code",
      "source": [
        "start = time.time()\n",
        "X_test = clean_data(X_test)\n",
        "end = time.time()\n",
        "tot_time = (end-start)/60"
      ],
      "metadata": {
        "id": "4Q2QHByiAYbi"
      },
      "execution_count": null,
      "outputs": []
    },
    {
      "cell_type": "code",
      "source": [
        "X_test_1 = X_test[:500]\n",
        "y_test_1 = y_test[:500]\n",
        "\n",
        "\n",
        "X_test_2 = X_test[500:1000].reset_index(drop=True)\n",
        "y_test_2 = y_test[500:1000].reset_index(drop=True)\n",
        "\n",
        "\n",
        "X_test_3 = X_test[1000:1500].reset_index(drop=True)\n",
        "y_test_3 = y_test[1000:1500].reset_index(drop=True)"
      ],
      "metadata": {
        "id": "KC4621qQekQu"
      },
      "execution_count": null,
      "outputs": []
    },
    {
      "cell_type": "code",
      "source": [
        "results_df = results_df.append(pd.Series([\"Cleaning\", 0, 0, 0, 0, tot_time]), ignore_index=True)"
      ],
      "metadata": {
        "id": "5aLynA5SPOU-"
      },
      "execution_count": null,
      "outputs": []
    },
    {
      "cell_type": "markdown",
      "source": [
        "## 4. Bert"
      ],
      "metadata": {
        "id": "Ft85nbIrnOsj"
      }
    },
    {
      "cell_type": "code",
      "source": [
        "# # model_name = \"distilbert-base-uncased-finetuned-sst-2-english\"\n",
        "# model_name = \"bert-base-uncased\"\n",
        "model_name = \"prajjwal1/bert-mini\"\n",
        "max_length = 512"
      ],
      "metadata": {
        "id": "qQMgwTTlnQYL"
      },
      "execution_count": null,
      "outputs": []
    },
    {
      "cell_type": "code",
      "source": [
        "classifier_simple = pipeline('sentiment-analysis', model = model_name)"
      ],
      "metadata": {
        "colab": {
          "base_uri": "https://localhost:8080/",
          "referenced_widgets": [
            "c0337452a4cd40a0a0d0f72ff3e5f288",
            "d1277059e5374c30a736b8c63ebd149c",
            "e5ef6f8ab64b4abeb46233a9a0af6096",
            "5fe04c9edab541ceacdb22fcf06c5577",
            "8be88384c1104f03809f0844f824fe70",
            "bfd5bbb4a0f2418ea03dfbb36d662995",
            "4a7f680871924fd38a85102a6daa5a9d",
            "6393ba6efe9d4440bd6fc07bad4c366f",
            "9b29f9ada5d74ab0870b55dfe0cc06a6",
            "e678c590a8cc45cabb83c30d37f55e7e",
            "f7fe2b0f77a94425a5a52418f89d15ed",
            "297148c3d52844afb9c8e2aed935b5a1",
            "c10d7accdd504c6d8fa06dfb43f8fc90",
            "25d707c41aa24071a04a337e1992cad1",
            "f7874d8bf0de4fa39ae8b7677a60497b",
            "c82bb037760043f6b60c1fb5b5e8c870",
            "2fb67e453fb14c8486ed21a45cfcfa83",
            "76296775e1b143e7a1909fd0340505fe",
            "61d8de4f2c514caca4f1afc8997c37f6",
            "e5e6cd38db744c048855f8434081c5f7",
            "5cb7aa59fb8a46049e8eaff22242431f",
            "46aa7d2a79d84cf9aff8cefb9101fad7",
            "eb8f59295dd54411ae008537042e973e",
            "d60cde9353754a91b8f7504695c3d0e3",
            "e0c11ca4ab0e4b1799a0b4a588622d79",
            "c0a644871bdf42a7be8e62762526d52c",
            "9e382502c0ae40a4a18391469cc87557",
            "1e5a38f7967c401bb50e318f7513e2f0",
            "eee750bbf43b477b849e711441447e71",
            "6ed23f1be5894a1ca9112c713a547d5e",
            "d99d8863075843a59fe314da3b059139",
            "80fae0451ee242ce9a562991916de4a0",
            "58970a389bf44ad480892d4e21ff6d02"
          ]
        },
        "id": "WHhAAUO7nU0t",
        "outputId": "69bb1106-79b3-430f-9f7a-87ac3487c03a"
      },
      "execution_count": null,
      "outputs": [
        {
          "output_type": "display_data",
          "data": {
            "text/plain": [
              "Downloading:   0%|          | 0.00/286 [00:00<?, ?B/s]"
            ],
            "application/vnd.jupyter.widget-view+json": {
              "version_major": 2,
              "version_minor": 0,
              "model_id": "c0337452a4cd40a0a0d0f72ff3e5f288"
            }
          },
          "metadata": {}
        },
        {
          "output_type": "display_data",
          "data": {
            "text/plain": [
              "Downloading:   0%|          | 0.00/43.0M [00:00<?, ?B/s]"
            ],
            "application/vnd.jupyter.widget-view+json": {
              "version_major": 2,
              "version_minor": 0,
              "model_id": "297148c3d52844afb9c8e2aed935b5a1"
            }
          },
          "metadata": {}
        },
        {
          "output_type": "stream",
          "name": "stderr",
          "text": [
            "Some weights of the model checkpoint at prajjwal1/bert-mini were not used when initializing BertForSequenceClassification: ['cls.predictions.transform.LayerNorm.weight', 'cls.predictions.decoder.weight', 'cls.predictions.bias', 'cls.seq_relationship.weight', 'cls.predictions.transform.dense.bias', 'cls.predictions.decoder.bias', 'cls.seq_relationship.bias', 'cls.predictions.transform.LayerNorm.bias', 'cls.predictions.transform.dense.weight']\n",
            "- This IS expected if you are initializing BertForSequenceClassification from the checkpoint of a model trained on another task or with another architecture (e.g. initializing a BertForSequenceClassification model from a BertForPreTraining model).\n",
            "- This IS NOT expected if you are initializing BertForSequenceClassification from the checkpoint of a model that you expect to be exactly identical (initializing a BertForSequenceClassification model from a BertForSequenceClassification model).\n",
            "Some weights of BertForSequenceClassification were not initialized from the model checkpoint at prajjwal1/bert-mini and are newly initialized: ['classifier.weight', 'classifier.bias']\n",
            "You should probably TRAIN this model on a down-stream task to be able to use it for predictions and inference.\n"
          ]
        },
        {
          "output_type": "display_data",
          "data": {
            "text/plain": [
              "Downloading:   0%|          | 0.00/226k [00:00<?, ?B/s]"
            ],
            "application/vnd.jupyter.widget-view+json": {
              "version_major": 2,
              "version_minor": 0,
              "model_id": "eb8f59295dd54411ae008537042e973e"
            }
          },
          "metadata": {}
        }
      ]
    },
    {
      "cell_type": "code",
      "source": [
        "model = AutoModelForSequenceClassification.from_pretrained(model_name)\n",
        "tokenizer = AutoTokenizer.from_pretrained(model_name)\n",
        "classifier_complex = pipeline('sentiment-analysis', model=model, tokenizer=tokenizer)"
      ],
      "metadata": {
        "colab": {
          "base_uri": "https://localhost:8080/"
        },
        "id": "OZGD2fvdnWM1",
        "outputId": "9a26968d-0e3a-475d-8cf0-439a10c2e1b2"
      },
      "execution_count": null,
      "outputs": [
        {
          "output_type": "stream",
          "name": "stderr",
          "text": [
            "Some weights of the model checkpoint at prajjwal1/bert-mini were not used when initializing BertForSequenceClassification: ['cls.predictions.transform.LayerNorm.weight', 'cls.predictions.decoder.weight', 'cls.predictions.bias', 'cls.seq_relationship.weight', 'cls.predictions.transform.dense.bias', 'cls.predictions.decoder.bias', 'cls.seq_relationship.bias', 'cls.predictions.transform.LayerNorm.bias', 'cls.predictions.transform.dense.weight']\n",
            "- This IS expected if you are initializing BertForSequenceClassification from the checkpoint of a model trained on another task or with another architecture (e.g. initializing a BertForSequenceClassification model from a BertForPreTraining model).\n",
            "- This IS NOT expected if you are initializing BertForSequenceClassification from the checkpoint of a model that you expect to be exactly identical (initializing a BertForSequenceClassification model from a BertForSequenceClassification model).\n",
            "Some weights of BertForSequenceClassification were not initialized from the model checkpoint at prajjwal1/bert-mini and are newly initialized: ['classifier.weight', 'classifier.bias']\n",
            "You should probably TRAIN this model on a down-stream task to be able to use it for predictions and inference.\n"
          ]
        }
      ]
    },
    {
      "cell_type": "code",
      "source": [
        "def bert_func(text_column):\n",
        "  results = np.zeros((len(text_column),1))\n",
        "  for i in range(0, len(text_column)):\n",
        "      result_1 =  classifier_simple(text_column[i])\n",
        "      if result_1[0]['label'] == \"LABEL_1\":\n",
        "        results[i] = 1\n",
        "  return results"
      ],
      "metadata": {
        "id": "ayTNrj5Dtna3"
      },
      "execution_count": null,
      "outputs": []
    },
    {
      "cell_type": "code",
      "source": [
        "start = time.time()\n",
        "res = bert_func(X_test_1)\n",
        "end = time.time()\n",
        "\n",
        "accuracy = accuracy_score(y_test_1, res)\n",
        "cm = confusion_matrix(y_test_1, res)\n",
        "precision = cm[0][0]/(cm[0][0] + cm[1][0])\n",
        "recall = cm[0][0]/(cm[0][0] + cm[0][1])\n",
        "f = 2*(precision * recall)/(precision + recall)\n",
        "tot_time = (end-start)/60\n",
        "\n",
        "results_df = results_df.append(pd.Series([\"BERT, BERT,\",1, precision, recall, accuracy, f, tot_time]), ignore_index=True)"
      ],
      "metadata": {
        "id": "6oacLye0uUTM"
      },
      "execution_count": null,
      "outputs": []
    },
    {
      "cell_type": "code",
      "source": [
        "start = time.time()\n",
        "res = bert_func(X_test_2)\n",
        "end = time.time()\n",
        "\n",
        "accuracy = accuracy_score(y_test_2, res)\n",
        "cm = confusion_matrix(y_test_2, res)\n",
        "precision = cm[0][0]/(cm[0][0] + cm[1][0])\n",
        "recall = cm[0][0]/(cm[0][0] + cm[0][1])\n",
        "f = 2*(precision * recall)/(precision + recall)\n",
        "tot_time = (end-start)/60\n",
        "\n",
        "results_df = results_df.append(pd.Series([\"BERT, BERT,\",2, precision, recall, accuracy, f, tot_time]), ignore_index=True)"
      ],
      "metadata": {
        "id": "J2IylGlXfpuW"
      },
      "execution_count": null,
      "outputs": []
    },
    {
      "cell_type": "code",
      "source": [
        "start = time.time()\n",
        "res = bert_func(X_test_3)\n",
        "end = time.time()\n",
        "\n",
        "accuracy = accuracy_score(y_test_3, res)\n",
        "cm = confusion_matrix(y_test_3, res)\n",
        "precision = cm[0][0]/(cm[0][0] + cm[1][0])\n",
        "recall = cm[0][0]/(cm[0][0] + cm[0][1])\n",
        "f = 2*(precision * recall)/(precision + recall)\n",
        "tot_time = (end-start)/60\n",
        "\n",
        "results_df = results_df.append(pd.Series([\"BERT, BERT,\",3, precision, recall, accuracy, f, tot_time]), ignore_index=True)"
      ],
      "metadata": {
        "id": "zHdTHmm75zc4"
      },
      "execution_count": null,
      "outputs": []
    },
    {
      "cell_type": "code",
      "source": [
        "accuracy"
      ],
      "metadata": {
        "colab": {
          "base_uri": "https://localhost:8080/"
        },
        "id": "nJAIWT3fiGkz",
        "outputId": "0b906733-c26c-4479-ee2f-d227e0f70928"
      },
      "execution_count": null,
      "outputs": [
        {
          "output_type": "execute_result",
          "data": {
            "text/plain": [
              "0.496"
            ]
          },
          "metadata": {},
          "execution_count": 42
        }
      ]
    },
    {
      "cell_type": "code",
      "source": [
        "results_df.to_csv(\"Results.csv\")"
      ],
      "metadata": {
        "id": "gtMQeGzrsqxn"
      },
      "execution_count": null,
      "outputs": []
    },
    {
      "cell_type": "markdown",
      "source": [
        "## 5. Training Our Own Model: TF-IDF"
      ],
      "metadata": {
        "id": "Ty6W7Y8L4kN2"
      }
    },
    {
      "cell_type": "code",
      "source": [
        "vect2 = TfidfVectorizer()\n",
        "\n",
        "x_train_tfidf = vect2.fit_transform(X_train)"
      ],
      "metadata": {
        "id": "QvEbQ0U-4oXw"
      },
      "execution_count": null,
      "outputs": []
    },
    {
      "cell_type": "code",
      "source": [
        "x_test_1_tfidf = vect2.transform(X_test_1)\n",
        "x_test_2_tfidf = vect2.transform(X_test_2)\n",
        "x_test_3_tfidf = vect2.transform(X_test_3)"
      ],
      "metadata": {
        "id": "dEV9-AtvgRAS"
      },
      "execution_count": null,
      "outputs": []
    },
    {
      "cell_type": "code",
      "source": [
        "#### NB: TFIDF\n",
        "\n",
        "clf = MultinomialNB()\n",
        "clf.fit(x_train_tfidf, y_train)"
      ],
      "metadata": {
        "colab": {
          "base_uri": "https://localhost:8080/"
        },
        "id": "BbqpZbYXgdBu",
        "outputId": "30059a5e-cfc3-47a6-baad-1fe510f2a5f1"
      },
      "execution_count": null,
      "outputs": [
        {
          "output_type": "execute_result",
          "data": {
            "text/plain": [
              "MultinomialNB()"
            ]
          },
          "metadata": {},
          "execution_count": 46
        }
      ]
    },
    {
      "cell_type": "code",
      "source": [
        "import pickle"
      ],
      "metadata": {
        "id": "Qim_JDm6gxzO"
      },
      "execution_count": null,
      "outputs": []
    },
    {
      "cell_type": "code",
      "source": [
        "filename = 'NB_TFIDF.sav'\n",
        "pickle.dump(clf, open(filename, 'wb'))"
      ],
      "metadata": {
        "id": "dtjbFUjggxEc"
      },
      "execution_count": null,
      "outputs": []
    },
    {
      "cell_type": "code",
      "source": [
        "#Test set 1:\n",
        "start = time.time()\n",
        "y_pred = clf.predict(x_test_1_tfidf) #prediction from model\n",
        "end = time.time()\n",
        "accuracy = accuracy_score(y_test_1, y_pred)\n",
        "print('Test Accuracy: ', accuracy)\n",
        "\n",
        "cm = confusion_matrix(y_test_1, y_pred)\n",
        "\n",
        "precision = cm[0][0]/(cm[0][0] + cm[1][0])\n",
        "print(f\"precision is {precision} \")\n",
        "\n",
        "recall = cm[0][0]/(cm[0][0] + cm[0][1])\n",
        "print(f\"recall is {recall}\")\n",
        "\n",
        "f = 2*(precision * recall)/(precision + recall)\n",
        "\n",
        "tot_time= (end - start)/60\n",
        "\n",
        "results_df = results_df.append(pd.Series([\"NB, TFIDF\",1, precision, recall, accuracy, f, tot_time]), ignore_index=True)\n"
      ],
      "metadata": {
        "id": "P3v2FzG25EpN",
        "colab": {
          "base_uri": "https://localhost:8080/"
        },
        "outputId": "af25c18e-1850-4ec9-f310-f68627c7920f"
      },
      "execution_count": null,
      "outputs": [
        {
          "output_type": "stream",
          "name": "stdout",
          "text": [
            "Test Accuracy:  0.756\n",
            "precision is 0.7544483985765125 \n",
            "recall is 0.8\n"
          ]
        }
      ]
    },
    {
      "cell_type": "code",
      "source": [
        "#Test set 2:\n",
        "start = time.time()\n",
        "y_pred = clf.predict(x_test_2_tfidf) #prediction from model\n",
        "end = time.time()\n",
        "accuracy = accuracy_score(y_test_2, y_pred)\n",
        "print('Test Accuracy: ', accuracy)\n",
        "\n",
        "cm = confusion_matrix(y_test_2, y_pred)\n",
        "\n",
        "precision = cm[0][0]/(cm[0][0] + cm[1][0])\n",
        "print(f\"precision is {precision} \")\n",
        "\n",
        "recall = cm[0][0]/(cm[0][0] + cm[0][1])\n",
        "print(f\"recall is {recall}\")\n",
        "\n",
        "f = 2*(precision * recall)/(precision + recall)\n",
        "\n",
        "tot_time= (end - start)/60\n",
        "\n",
        "results_df = results_df.append(pd.Series([\"NB, TFIDF\",2, precision, recall, accuracy, f, tot_time]), ignore_index=True)"
      ],
      "metadata": {
        "colab": {
          "base_uri": "https://localhost:8080/"
        },
        "id": "Zdk0PyFeg6oz",
        "outputId": "56868204-8967-4832-ad1e-ea3017d340ab"
      },
      "execution_count": null,
      "outputs": [
        {
          "output_type": "stream",
          "name": "stdout",
          "text": [
            "Test Accuracy:  0.738\n",
            "precision is 0.7056603773584905 \n",
            "recall is 0.7791666666666667\n"
          ]
        }
      ]
    },
    {
      "cell_type": "code",
      "source": [
        "#Test set 2:\n",
        "start = time.time()\n",
        "y_pred = clf.predict(x_test_3_tfidf) #prediction from model\n",
        "end = time.time()\n",
        "accuracy = accuracy_score(y_test_3, y_pred)\n",
        "print('Test Accuracy: ', accuracy)\n",
        "\n",
        "cm = confusion_matrix(y_test_3, y_pred)\n",
        "\n",
        "precision = cm[0][0]/(cm[0][0] + cm[1][0])\n",
        "print(f\"precision is {precision} \")\n",
        "\n",
        "recall = cm[0][0]/(cm[0][0] + cm[0][1])\n",
        "print(f\"recall is {recall}\")\n",
        "\n",
        "f = 2*(precision * recall)/(precision + recall)\n",
        "\n",
        "tot_time= (end - start)/60\n",
        "\n",
        "results_df = results_df.append(pd.Series([\"NB, TFIDF\",3, precision, recall, accuracy, f, tot_time]), ignore_index=True)"
      ],
      "metadata": {
        "colab": {
          "base_uri": "https://localhost:8080/"
        },
        "id": "lDeXTw_lg6aK",
        "outputId": "0683d4ce-365d-4fa9-d136-6e9c155e9c92"
      },
      "execution_count": null,
      "outputs": [
        {
          "output_type": "stream",
          "name": "stdout",
          "text": [
            "Test Accuracy:  0.762\n",
            "precision is 0.7196969696969697 \n",
            "recall is 0.8085106382978723\n"
          ]
        }
      ]
    },
    {
      "cell_type": "code",
      "source": [
        "#### Logistic Regression: TFIDF\n",
        "\n",
        "clf = LogisticRegression(max_iter = 1000)\n",
        "clf.fit(x_train_tfidf, y_train)\n",
        "\n",
        "filename = 'LOG_TFIDF.sav'\n",
        "pickle.dump(clf, open(filename, 'wb'))"
      ],
      "metadata": {
        "id": "a16YhmDA5Ip1"
      },
      "execution_count": null,
      "outputs": []
    },
    {
      "cell_type": "code",
      "source": [
        "#Test set 1:\n",
        "start = time.time()\n",
        "y_pred = clf.predict(x_test_1_tfidf) #prediction from model\n",
        "end = time.time()\n",
        "accuracy = accuracy_score(y_test_1, y_pred)\n",
        "print('Test Accuracy: ', accuracy)\n",
        "\n",
        "cm = confusion_matrix(y_test_1, y_pred)\n",
        "\n",
        "precision = cm[0][0]/(cm[0][0] + cm[1][0])\n",
        "print(f\"precision is {precision} \")\n",
        "\n",
        "recall = cm[0][0]/(cm[0][0] + cm[0][1])\n",
        "print(f\"recall is {recall}\")\n",
        "\n",
        "f = 2*(precision * recall)/(precision + recall)\n",
        "\n",
        "tot_time= (end - start)/60\n",
        "\n",
        "results_df = results_df.append(pd.Series([\"LOG, TFIDF\",1, precision, recall, accuracy, f, tot_time]), ignore_index=True)\n"
      ],
      "metadata": {
        "colab": {
          "base_uri": "https://localhost:8080/"
        },
        "outputId": "52d51c9d-2108-4d29-c86b-8e83f1ac7521",
        "id": "53QY9b0uhH9W"
      },
      "execution_count": null,
      "outputs": [
        {
          "output_type": "stream",
          "name": "stdout",
          "text": [
            "Test Accuracy:  0.756\n",
            "precision is 0.7782101167315175 \n",
            "recall is 0.7547169811320755\n"
          ]
        }
      ]
    },
    {
      "cell_type": "code",
      "source": [
        "#Test set 2:\n",
        "start = time.time()\n",
        "y_pred = clf.predict(x_test_2_tfidf) #prediction from model\n",
        "end = time.time()\n",
        "accuracy = accuracy_score(y_test_2, y_pred)\n",
        "print('Test Accuracy: ', accuracy)\n",
        "\n",
        "cm = confusion_matrix(y_test_2, y_pred)\n",
        "\n",
        "precision = cm[0][0]/(cm[0][0] + cm[1][0])\n",
        "print(f\"precision is {precision} \")\n",
        "\n",
        "recall = cm[0][0]/(cm[0][0] + cm[0][1])\n",
        "print(f\"recall is {recall}\")\n",
        "\n",
        "f = 2*(precision * recall)/(precision + recall)\n",
        "\n",
        "tot_time= (end - start)/60\n",
        "\n",
        "results_df = results_df.append(pd.Series([\"LOG, TFIDF\",2, precision, recall, accuracy, f, tot_time]), ignore_index=True)"
      ],
      "metadata": {
        "colab": {
          "base_uri": "https://localhost:8080/"
        },
        "outputId": "486e12da-a891-4ded-d9ca-b690e9f8ac46",
        "id": "ZOfmV71ehH9X"
      },
      "execution_count": null,
      "outputs": [
        {
          "output_type": "stream",
          "name": "stdout",
          "text": [
            "Test Accuracy:  0.756\n",
            "precision is 0.7565217391304347 \n",
            "recall is 0.725\n"
          ]
        }
      ]
    },
    {
      "cell_type": "code",
      "source": [
        "#Test set 3:\n",
        "start = time.time()\n",
        "y_pred = clf.predict(x_test_3_tfidf) #prediction from model\n",
        "end = time.time()\n",
        "accuracy = accuracy_score(y_test_3, y_pred)\n",
        "print('Test Accuracy: ', accuracy)\n",
        "\n",
        "cm = confusion_matrix(y_test_3, y_pred)\n",
        "\n",
        "precision = cm[0][0]/(cm[0][0] + cm[1][0])\n",
        "print(f\"precision is {precision} \")\n",
        "\n",
        "recall = cm[0][0]/(cm[0][0] + cm[0][1])\n",
        "print(f\"recall is {recall}\")\n",
        "\n",
        "f = 2*(precision * recall)/(precision + recall)\n",
        "\n",
        "tot_time= (end - start)/60\n",
        "\n",
        "results_df = results_df.append(pd.Series([\"LOG, TFIDF\",3, precision, recall, accuracy, f, tot_time]), ignore_index=True)"
      ],
      "metadata": {
        "colab": {
          "base_uri": "https://localhost:8080/"
        },
        "outputId": "eb2cc2f7-b1ca-41b8-a775-4566efd067ad",
        "id": "R-ErI-_nhH9Y"
      },
      "execution_count": null,
      "outputs": [
        {
          "output_type": "stream",
          "name": "stdout",
          "text": [
            "Test Accuracy:  0.806\n",
            "precision is 0.8080357142857143 \n",
            "recall is 0.7702127659574468\n"
          ]
        }
      ]
    },
    {
      "cell_type": "code",
      "source": [
        "results_df.to_csv(\"results.csv\")"
      ],
      "metadata": {
        "id": "o5UGaFoBuV9b"
      },
      "execution_count": null,
      "outputs": []
    },
    {
      "cell_type": "markdown",
      "source": [
        "## 7. Training Our Own Model: BOW"
      ],
      "metadata": {
        "id": "7e68p8fUg9R5"
      }
    },
    {
      "cell_type": "code",
      "source": [
        "vect = CountVectorizer()\n",
        "x_train_bow = vect.fit_transform(X_train)"
      ],
      "metadata": {
        "id": "EVHbuzEKhALh"
      },
      "execution_count": null,
      "outputs": []
    },
    {
      "cell_type": "code",
      "source": [
        "x_test_bow_1 = vect.transform(X_test_1)\n",
        "x_test_bow_2 = vect.transform(X_test_2)\n",
        "x_test_bow_3 = vect.transform(X_test_3)"
      ],
      "metadata": {
        "id": "5-5zIWCt-kFy"
      },
      "execution_count": null,
      "outputs": []
    },
    {
      "cell_type": "code",
      "source": [
        "#### NB: BOW\n",
        "\n",
        "clf = MultinomialNB()\n",
        "clf.fit(x_train_bow, y_train)\n",
        "\n",
        "filename = 'NB_BOW.sav'\n",
        "pickle.dump(clf, open(filename, 'wb'))"
      ],
      "metadata": {
        "id": "vvylY9XXiS00"
      },
      "execution_count": null,
      "outputs": []
    },
    {
      "cell_type": "code",
      "source": [
        "start = time.time()\n",
        "y_pred = clf.predict(x_test_bow_1) #prediction from model\n",
        "end  = time.time()\n",
        "accuracy = accuracy_score(y_test_1, y_pred)\n",
        "print('Test Accuracy: ', accuracy)\n",
        "\n",
        "cm = confusion_matrix(y_test_1, y_pred)\n",
        "\n",
        "precision = cm[0][0]/(cm[0][0] + cm[1][0])\n",
        "print(f\"precision is {precision} \")\n",
        "\n",
        "recall = cm[0][0]/(cm[0][0] + cm[0][1])\n",
        "print(f\"recall is {recall}\")\n",
        "\n",
        "f = 2*(precision * recall)/(precision + recall)\n",
        "\n",
        "tot_time  = (end-start)/60\n",
        "\n",
        "results_df = results_df.append(pd.Series([\"NB, BOW\",1, precision, recall, accuracy, f, tot_time]), ignore_index=True)"
      ],
      "metadata": {
        "colab": {
          "base_uri": "https://localhost:8080/"
        },
        "id": "BiHwllwF-b11",
        "outputId": "1f8a6075-658a-4717-f146-d089d44d2e91"
      },
      "execution_count": null,
      "outputs": [
        {
          "output_type": "stream",
          "name": "stdout",
          "text": [
            "Test Accuracy:  0.766\n",
            "precision is 0.7681159420289855 \n",
            "recall is 0.8\n"
          ]
        }
      ]
    },
    {
      "cell_type": "code",
      "source": [
        "start = time.time()\n",
        "y_pred = clf.predict(x_test_bow_2) #prediction from model\n",
        "end  = time.time()\n",
        "accuracy = accuracy_score(y_test_2, y_pred)\n",
        "print('Test Accuracy: ', accuracy)\n",
        "\n",
        "cm = confusion_matrix(y_test_2, y_pred)\n",
        "\n",
        "precision = cm[0][0]/(cm[0][0] + cm[1][0])\n",
        "print(f\"precision is {precision} \")\n",
        "\n",
        "recall = cm[0][0]/(cm[0][0] + cm[0][1])\n",
        "print(f\"recall is {recall}\")\n",
        "\n",
        "f = 2*(precision * recall)/(precision + recall)\n",
        "\n",
        "tot_time  = (end-start)/60\n",
        "\n",
        "results_df = results_df.append(pd.Series([\"NB, BOW\",2, precision, recall, accuracy, f, tot_time]), ignore_index=True)"
      ],
      "metadata": {
        "colab": {
          "base_uri": "https://localhost:8080/"
        },
        "id": "8Z4MVEK_-wlT",
        "outputId": "c9d74d25-fd19-455f-cbda-f37289fc3bfc"
      },
      "execution_count": null,
      "outputs": [
        {
          "output_type": "stream",
          "name": "stdout",
          "text": [
            "Test Accuracy:  0.73\n",
            "precision is 0.7042801556420234 \n",
            "recall is 0.7541666666666667\n"
          ]
        }
      ]
    },
    {
      "cell_type": "code",
      "source": [
        "start = time.time()\n",
        "y_pred = clf.predict(x_test_bow_3) #prediction from model\n",
        "end  = time.time()\n",
        "accuracy = accuracy_score(y_test_3, y_pred)\n",
        "print('Test Accuracy: ', accuracy)\n",
        "\n",
        "cm = confusion_matrix(y_test_3, y_pred)\n",
        "\n",
        "precision = cm[0][0]/(cm[0][0] + cm[1][0])\n",
        "print(f\"precision is {precision} \")\n",
        "\n",
        "recall = cm[0][0]/(cm[0][0] + cm[0][1])\n",
        "print(f\"recall is {recall}\")\n",
        "\n",
        "f = 2*(precision * recall)/(precision + recall)\n",
        "\n",
        "tot_time  = (end-start)/60\n",
        "\n",
        "results_df = results_df.append(pd.Series([\"NB, BOW\",3, precision, recall, accuracy, f, tot_time]), ignore_index=True)"
      ],
      "metadata": {
        "colab": {
          "base_uri": "https://localhost:8080/"
        },
        "id": "Hjm21cX5-wfI",
        "outputId": "6a3b556b-dd18-4371-9acb-bf8c145aa42e"
      },
      "execution_count": null,
      "outputs": [
        {
          "output_type": "stream",
          "name": "stdout",
          "text": [
            "Test Accuracy:  0.764\n",
            "precision is 0.7312252964426877 \n",
            "recall is 0.7872340425531915\n"
          ]
        }
      ]
    },
    {
      "cell_type": "code",
      "source": [
        "#### Logistic Regression: BOW\n",
        "\n",
        "clf = LogisticRegression()\n",
        "clf.fit(x_train_bow, y_train)\n",
        "\n",
        "filename = 'LOG_BOW.sav'\n",
        "pickle.dump(clf, open(filename, 'wb'))"
      ],
      "metadata": {
        "colab": {
          "base_uri": "https://localhost:8080/"
        },
        "id": "ccUbb79diS09",
        "outputId": "2fbd1c3e-0770-41d3-e925-0d1e5b5336c0"
      },
      "execution_count": null,
      "outputs": [
        {
          "output_type": "stream",
          "name": "stderr",
          "text": [
            "/usr/local/lib/python3.7/dist-packages/sklearn/linear_model/_logistic.py:818: ConvergenceWarning: lbfgs failed to converge (status=1):\n",
            "STOP: TOTAL NO. of ITERATIONS REACHED LIMIT.\n",
            "\n",
            "Increase the number of iterations (max_iter) or scale the data as shown in:\n",
            "    https://scikit-learn.org/stable/modules/preprocessing.html\n",
            "Please also refer to the documentation for alternative solver options:\n",
            "    https://scikit-learn.org/stable/modules/linear_model.html#logistic-regression\n",
            "  extra_warning_msg=_LOGISTIC_SOLVER_CONVERGENCE_MSG,\n"
          ]
        }
      ]
    },
    {
      "cell_type": "code",
      "source": [
        "start = time.time()\n",
        "y_pred = clf.predict(x_test_bow_1) #prediction from model\n",
        "end  = time.time()\n",
        "accuracy = accuracy_score(y_test_1, y_pred)\n",
        "print('Test Accuracy: ', accuracy)\n",
        "\n",
        "cm = confusion_matrix(y_test_1, y_pred)\n",
        "\n",
        "precision = cm[0][0]/(cm[0][0] + cm[1][0])\n",
        "print(f\"precision is {precision} \")\n",
        "\n",
        "recall = cm[0][0]/(cm[0][0] + cm[0][1])\n",
        "print(f\"recall is {recall}\")\n",
        "\n",
        "f = 2*(precision * recall)/(precision + recall)\n",
        "\n",
        "tot_time  = (end-start)/60\n",
        "\n",
        "results_df = results_df.append(pd.Series([\"LOG, WORDVEC\",1, precision, recall, accuracy, f, tot_time]), ignore_index=True)"
      ],
      "metadata": {
        "colab": {
          "base_uri": "https://localhost:8080/"
        },
        "id": "_Vk8__sf-9p4",
        "outputId": "e99b8c9c-720a-43c0-dea8-05248b4d37cb"
      },
      "execution_count": null,
      "outputs": [
        {
          "output_type": "stream",
          "name": "stdout",
          "text": [
            "Test Accuracy:  0.754\n",
            "precision is 0.7817460317460317 \n",
            "recall is 0.7433962264150943\n"
          ]
        }
      ]
    },
    {
      "cell_type": "code",
      "source": [
        "start = time.time()\n",
        "y_pred = clf.predict(x_test_bow_2) #prediction from model\n",
        "end  = time.time()\n",
        "accuracy = accuracy_score(y_test_2, y_pred)\n",
        "print('Test Accuracy: ', accuracy)\n",
        "\n",
        "cm = confusion_matrix(y_test_2, y_pred)\n",
        "\n",
        "precision = cm[0][0]/(cm[0][0] + cm[1][0])\n",
        "print(f\"precision is {precision} \")\n",
        "\n",
        "recall = cm[0][0]/(cm[0][0] + cm[0][1])\n",
        "print(f\"recall is {recall}\")\n",
        "\n",
        "f = 2*(precision * recall)/(precision + recall)\n",
        "\n",
        "tot_time  = (end-start)/60\n",
        "\n",
        "results_df = results_df.append(pd.Series([\"LOG, WORDVEC\",2, precision, recall, accuracy, f, tot_time]), ignore_index=True)"
      ],
      "metadata": {
        "colab": {
          "base_uri": "https://localhost:8080/"
        },
        "id": "nfa3wBXZ-9p5",
        "outputId": "506d129b-aa88-4cee-88bd-ed261e364e1c"
      },
      "execution_count": null,
      "outputs": [
        {
          "output_type": "stream",
          "name": "stdout",
          "text": [
            "Test Accuracy:  0.768\n",
            "precision is 0.7743362831858407 \n",
            "recall is 0.7291666666666666\n"
          ]
        }
      ]
    },
    {
      "cell_type": "code",
      "source": [
        "start = time.time()\n",
        "y_pred = clf.predict(x_test_bow_3) #prediction from model\n",
        "end  = time.time()\n",
        "accuracy = accuracy_score(y_test_3, y_pred)\n",
        "print('Test Accuracy: ', accuracy)\n",
        "\n",
        "cm = confusion_matrix(y_test_3, y_pred)\n",
        "\n",
        "precision = cm[0][0]/(cm[0][0] + cm[1][0])\n",
        "print(f\"precision is {precision} \")\n",
        "\n",
        "recall = cm[0][0]/(cm[0][0] + cm[0][1])\n",
        "print(f\"recall is {recall}\")\n",
        "\n",
        "f = 2*(precision * recall)/(precision + recall)\n",
        "\n",
        "tot_time  = (end-start)/60\n",
        "\n",
        "results_df = results_df.append(pd.Series([\"LOG, WORDVEC\",3, precision, recall, accuracy, f, tot_time]), ignore_index=True)"
      ],
      "metadata": {
        "colab": {
          "base_uri": "https://localhost:8080/"
        },
        "id": "6yF8rnOa-9p5",
        "outputId": "683794c7-f5c6-42a0-d859-45fa4a870ba2"
      },
      "execution_count": null,
      "outputs": [
        {
          "output_type": "stream",
          "name": "stdout",
          "text": [
            "Test Accuracy:  0.79\n",
            "precision is 0.7901785714285714 \n",
            "recall is 0.7531914893617021\n"
          ]
        }
      ]
    },
    {
      "cell_type": "code",
      "source": [
        "results_df.to_csv(\"Results.csv\")"
      ],
      "metadata": {
        "id": "4ltl-G0Iv_vd"
      },
      "execution_count": null,
      "outputs": []
    },
    {
      "cell_type": "markdown",
      "source": [
        "## 8. One last hail mary"
      ],
      "metadata": {
        "id": "Q_SCYoixFa35"
      }
    },
    {
      "cell_type": "code",
      "source": [
        "with open('Words.txt') as f:\n",
        "    lines = f.readlines()"
      ],
      "metadata": {
        "id": "uyBnSCWdFhlL"
      },
      "execution_count": null,
      "outputs": []
    },
    {
      "cell_type": "code",
      "source": [
        "words = pd.DataFrame()"
      ],
      "metadata": {
        "id": "RNMgRUltGgfZ"
      },
      "execution_count": null,
      "outputs": []
    },
    {
      "cell_type": "code",
      "source": [
        "words[\"Word\"] = list(map(lambda x: x.split('\\t')[0], lines))"
      ],
      "metadata": {
        "id": "Gtu1ZyMAGjhb"
      },
      "execution_count": null,
      "outputs": []
    },
    {
      "cell_type": "code",
      "source": [
        "words[\"Score\"] = list(map(lambda x: int(x.split('\\t')[1].split('\\n')[0]), lines))"
      ],
      "metadata": {
        "id": "uhrt3ECYHrnx"
      },
      "execution_count": null,
      "outputs": []
    },
    {
      "cell_type": "code",
      "source": [
        "min(words[\"Score\"])"
      ],
      "metadata": {
        "colab": {
          "base_uri": "https://localhost:8080/"
        },
        "id": "LJK77eXoi8N-",
        "outputId": "d06048c9-e5e4-47d9-d64a-19a4c67e0985"
      },
      "execution_count": null,
      "outputs": [
        {
          "output_type": "execute_result",
          "data": {
            "text/plain": [
              "-5"
            ]
          },
          "metadata": {},
          "execution_count": 72
        }
      ]
    },
    {
      "cell_type": "code",
      "source": [
        "words =words.set_index('Word')"
      ],
      "metadata": {
        "id": "Lb9VKaRAIAPX"
      },
      "execution_count": null,
      "outputs": []
    },
    {
      "cell_type": "code",
      "source": [
        "X_test[0]"
      ],
      "metadata": {
        "colab": {
          "base_uri": "https://localhost:8080/"
        },
        "id": "YiivyQZYHxNK",
        "outputId": "ad5e1e79-0c1d-4ed5-b558-f16b5f40890b"
      },
      "execution_count": null,
      "outputs": [
        {
          "output_type": "execute_result",
          "data": {
            "text/plain": [
              "'taking rest long day school'"
            ],
            "application/vnd.google.colaboratory.intrinsic+json": {
              "type": "string"
            }
          },
          "metadata": {},
          "execution_count": 74
        }
      ]
    },
    {
      "cell_type": "code",
      "source": [
        "np.mean(words[\"Score\"])"
      ],
      "metadata": {
        "colab": {
          "base_uri": "https://localhost:8080/"
        },
        "id": "txqz6yZPJLBe",
        "outputId": "82843c02-9352-4153-9008-75d650303820"
      },
      "execution_count": null,
      "outputs": [
        {
          "output_type": "execute_result",
          "data": {
            "text/plain": [
              "-0.5894226887363746"
            ]
          },
          "metadata": {},
          "execution_count": 75
        }
      ]
    },
    {
      "cell_type": "code",
      "source": [
        "def get_score(text):\n",
        "  score = 0\n",
        "  for i in text.split(' '):\n",
        "    try:\n",
        "      score += int(words.loc[i, \"Score\"])\n",
        "    except:\n",
        "      continue\n",
        "  return score"
      ],
      "metadata": {
        "id": "6FKRS25wJ-a4"
      },
      "execution_count": null,
      "outputs": []
    },
    {
      "cell_type": "code",
      "source": [
        "def get_pred(score):\n",
        "  if score >0:\n",
        "    return 1\n",
        "  else:\n",
        "    return 0"
      ],
      "metadata": {
        "id": "7xY2wf-NKXie"
      },
      "execution_count": null,
      "outputs": []
    },
    {
      "cell_type": "code",
      "source": [
        "def Leahs_Naive_Bayes(text):\n",
        "  pred = list(map(lambda x: get_pred(get_score(x)), text))\n",
        "  return pred"
      ],
      "metadata": {
        "id": "LFGCl5wCJalZ"
      },
      "execution_count": null,
      "outputs": []
    },
    {
      "cell_type": "code",
      "source": [
        "start = time.time()\n",
        "y_pred = Leahs_Naive_Bayes(X_test_1)\n",
        "end = time.time()\n",
        "\n",
        "tot_time = (end - start)/60\n",
        "\n",
        "accuracy = accuracy_score(y_test_1, y_pred)\n",
        "print('Test Accuracy: ', accuracy)\n",
        "\n",
        "cm = confusion_matrix(y_test_1, y_pred)\n",
        "\n",
        "precision = cm[0][0]/(cm[0][0] + cm[1][0])\n",
        "print(f\"precision is {precision} \")\n",
        "\n",
        "recall = cm[0][0]/(cm[0][0] + cm[0][1])\n",
        "print(f\"recall is {recall}\")\n",
        "\n",
        "f = 2*(precision * recall)/(precision + recall)\n",
        "\n",
        "results_df = results_df.append(pd.Series([\"Leahs Model\", 1, precision, recall, accuracy, f, tot_time]), ignore_index=True)"
      ],
      "metadata": {
        "colab": {
          "base_uri": "https://localhost:8080/"
        },
        "id": "DXl893oSLb4X",
        "outputId": "ff622db0-10d9-4403-cd1f-561c4cdf4dce"
      },
      "execution_count": null,
      "outputs": [
        {
          "output_type": "stream",
          "name": "stdout",
          "text": [
            "Test Accuracy:  0.65\n",
            "precision is 0.6451612903225806 \n",
            "recall is 0.7547169811320755\n"
          ]
        }
      ]
    },
    {
      "cell_type": "code",
      "source": [
        "start = time.time()\n",
        "y_pred = Leahs_Naive_Bayes(X_test_2)\n",
        "end = time.time()\n",
        "\n",
        "tot_time = (end - start)/60\n",
        "\n",
        "accuracy = accuracy_score(y_test_2, y_pred)\n",
        "print('Test Accuracy: ', accuracy)\n",
        "\n",
        "cm = confusion_matrix(y_test_2, y_pred)\n",
        "\n",
        "precision = cm[0][0]/(cm[0][0] + cm[1][0])\n",
        "print(f\"precision is {precision} \")\n",
        "\n",
        "recall = cm[0][0]/(cm[0][0] + cm[0][1])\n",
        "print(f\"recall is {recall}\")\n",
        "\n",
        "f = 2*(precision * recall)/(precision + recall)\n",
        "\n",
        "results_df = results_df.append(pd.Series([\"Leahs Model\", 2, precision, recall, accuracy, f, tot_time]), ignore_index=True)"
      ],
      "metadata": {
        "colab": {
          "base_uri": "https://localhost:8080/"
        },
        "id": "hYfBl-te_MCH",
        "outputId": "b59693c8-70ac-4ed2-a335-c9d3792c3764"
      },
      "execution_count": null,
      "outputs": [
        {
          "output_type": "stream",
          "name": "stdout",
          "text": [
            "Test Accuracy:  0.656\n",
            "precision is 0.6197183098591549 \n",
            "recall is 0.7333333333333333\n"
          ]
        }
      ]
    },
    {
      "cell_type": "code",
      "source": [
        "start = time.time()\n",
        "y_pred = Leahs_Naive_Bayes(X_test_3)\n",
        "end = time.time()\n",
        "\n",
        "tot_time = (end - start)/60\n",
        "\n",
        "accuracy = accuracy_score(y_test_3, y_pred)\n",
        "print('Test Accuracy: ', accuracy)\n",
        "\n",
        "cm = confusion_matrix(y_test_3, y_pred)\n",
        "\n",
        "precision = cm[0][0]/(cm[0][0] + cm[1][0])\n",
        "print(f\"precision is {precision} \")\n",
        "\n",
        "recall = cm[0][0]/(cm[0][0] + cm[0][1])\n",
        "print(f\"recall is {recall}\")\n",
        "\n",
        "f = 2*(precision * recall)/(precision + recall)\n",
        "\n",
        "results_df = results_df.append(pd.Series([\"Leahs Model\", 3, precision, recall, accuracy, f, tot_time]), ignore_index=True)"
      ],
      "metadata": {
        "colab": {
          "base_uri": "https://localhost:8080/"
        },
        "id": "KB50k5M__L81",
        "outputId": "e5916a6d-8412-4a61-e967-b72d5e944640"
      },
      "execution_count": null,
      "outputs": [
        {
          "output_type": "stream",
          "name": "stdout",
          "text": [
            "Test Accuracy:  0.632\n",
            "precision is 0.5894736842105263 \n",
            "recall is 0.7148936170212766\n"
          ]
        }
      ]
    },
    {
      "cell_type": "code",
      "source": [
        "results_df.to_csv(\"Results.csv\")"
      ],
      "metadata": {
        "id": "4bRj3RYXNXe6"
      },
      "execution_count": null,
      "outputs": []
    },
    {
      "cell_type": "code",
      "source": [
        "results_df.to_csv(\"Results.csv\")"
      ],
      "metadata": {
        "id": "7_lIrZ-z1PYm"
      },
      "execution_count": null,
      "outputs": []
    },
    {
      "cell_type": "code",
      "source": [
        ""
      ],
      "metadata": {
        "id": "rQvhp4yi1QyE"
      },
      "execution_count": null,
      "outputs": []
    }
  ]
}