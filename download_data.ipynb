{
 "cells": [
  {
   "cell_type": "code",
   "execution_count": 2,
   "metadata": {},
   "outputs": [],
   "source": [
    "import requests\n",
    "import json\n",
    "import time"
   ]
  },
  {
   "cell_type": "code",
   "execution_count": 4,
   "metadata": {},
   "outputs": [],
   "source": [
    "# Get BEARER_TOKEN from key.json\n",
    "with open('key.json') as f:\n",
    "\tkey = json.load(f)\n",
    "\tbearer_token = key['BEARER_TOKEN']"
   ]
  },
  {
   "cell_type": "code",
   "execution_count": 10,
   "metadata": {},
   "outputs": [],
   "source": [
    "def get_tweets(search, num_tweets = 5):\n",
    "\t# Create the url\n",
    "\turl = 'https://api.twitter.com/1.1/search/tweets.json?result_type=popular&q='+ search + '&max_results=' + str(num_tweets)\n",
    "\t# Create request headers\n",
    "\theaders = {\n",
    "\t\t'authorization': 'Bearer ' + bearer_token,\n",
    "\t\t'user-agent': 'v2FilteredStreamPython',\n",
    "\t}\n",
    "\t# Make the request\n",
    "\tresponse = requests.get(url, headers=headers)\n",
    "\treturn response.json()"
   ]
  },
  {
   "cell_type": "code",
   "execution_count": 13,
   "metadata": {},
   "outputs": [],
   "source": [
    "wheels_json = get_tweets('wheel', 100)\n",
    "doors_json = get_tweets('door', 100)"
   ]
  },
  {
   "cell_type": "code",
   "execution_count": null,
   "metadata": {},
   "outputs": [],
   "source": [
    "# Write to json file\n",
    "with open('wheels.json', 'w') as f:\n",
    "\tjson.dump(wheels_json, f)\n",
    "with open('doors.json', 'w') as f:\n",
    "\tjson.dump(doors_json, f)"
   ]
  }
 ],
 "metadata": {
  "interpreter": {
   "hash": "767d51c1340bd893661ea55ea3124f6de3c7a262a8b4abca0554b478b1e2ff90"
  },
  "kernelspec": {
   "display_name": "Python 3.10.2 64-bit",
   "language": "python",
   "name": "python3"
  },
  "language_info": {
   "codemirror_mode": {
    "name": "ipython",
    "version": 3
   },
   "file_extension": ".py",
   "mimetype": "text/x-python",
   "name": "python",
   "nbconvert_exporter": "python",
   "pygments_lexer": "ipython3",
   "version": "3.10.2"
  },
  "orig_nbformat": 4
 },
 "nbformat": 4,
 "nbformat_minor": 2
}
